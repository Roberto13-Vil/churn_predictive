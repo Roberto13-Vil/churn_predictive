{
 "cells": [
  {
   "cell_type": "markdown",
   "id": "2d20e582",
   "metadata": {},
   "source": [
    "# Model Neuronal Network"
   ]
  },
  {
   "cell_type": "code",
   "execution_count": 1,
   "id": "6666b528",
   "metadata": {},
   "outputs": [],
   "source": [
    "import pandas as pd\n",
    "import matplotlib.pyplot as plt\n",
    "import torch\n",
    "import torch.nn as nn\n",
    "import torch.nn.init as init\n",
    "import torch.nn.functional as F\n",
    "from torch.utils.data import DataLoader, TensorDataset\n",
    "from sklearn.model_selection import train_test_split\n",
    "from sklearn.metrics import accuracy_score, precision_score, recall_score, f1_score\n",
    "from sklearn.metrics import confusion_matrix, ConfusionMatrixDisplay"
   ]
  },
  {
   "cell_type": "markdown",
   "id": "bd418bf0",
   "metadata": {},
   "source": [
    "## Data to Tensor"
   ]
  },
  {
   "cell_type": "code",
   "execution_count": 2,
   "id": "940b0dd8",
   "metadata": {},
   "outputs": [],
   "source": [
    "df = pd.read_csv('../Data/preprocessing.csv')\n",
    "X = df.drop(columns='target')\n",
    "y = df['target']\n",
    "X_train, X_test, y_train, y_test = train_test_split(\n",
    "    X, y, test_size=0.2, random_state=13, stratify=y\n",
    ")"
   ]
  },
  {
   "cell_type": "code",
   "execution_count": 3,
   "id": "d2d3e6cd",
   "metadata": {},
   "outputs": [],
   "source": [
    "X_train_tensor = torch.tensor(X_train.values, dtype=torch.float32)\n",
    "X_test_tensor = torch.tensor(X_test.values, dtype=torch.float32)\n",
    "y_train_tensor = torch.tensor(y_train.values, dtype=torch.float32).view(-1,1)\n",
    "y_test_tensor = torch.tensor(y_test.values, dtype=torch.float32).view(-1,1)"
   ]
  },
  {
   "cell_type": "code",
   "execution_count": 4,
   "id": "b72b6d91",
   "metadata": {},
   "outputs": [],
   "source": [
    "train_dataset = TensorDataset(X_train_tensor, y_train_tensor)\n",
    "test_dataset = TensorDataset(X_test_tensor, y_test_tensor)\n",
    "\n",
    "train_loader = DataLoader(train_dataset, batch_size=32, shuffle=True)\n",
    "test_loader = DataLoader(test_dataset, batch_size=32)"
   ]
  },
  {
   "cell_type": "markdown",
   "id": "62ee755e",
   "metadata": {},
   "source": [
    "## Create Neural Network"
   ]
  },
  {
   "cell_type": "code",
   "execution_count": 5,
   "id": "5bf6f624",
   "metadata": {},
   "outputs": [],
   "source": [
    "class ChurnNN(nn.Module):\n",
    "    def __init__(self, input_dim, hidden_dim, output_dim, activation, dropout_rate):\n",
    "        super().__init__()\n",
    "        self.fc1 = nn.Linear(input_dim, hidden_dim)\n",
    "        self.fc2 = nn.Linear(hidden_dim, hidden_dim)\n",
    "        self.fc3 = nn.Linear(hidden_dim, hidden_dim)\n",
    "        self.fc4 = nn.Linear(hidden_dim, output_dim)\n",
    "\n",
    "        self.activation = activation\n",
    "        self.dropout = nn.Dropout(dropout_rate)\n",
    "\n",
    "        for layer in [self.fc1, self.fc2, self.fc3, self.fc4]:\n",
    "            init.kaiming_uniform_(layer.weight, nonlinearity='relu')\n",
    "            init.zeros_(layer.bias)\n",
    "\n",
    "    def forward(self, x):\n",
    "        x = self.activation(self.fc1(x))\n",
    "        x = self.dropout(x)\n",
    "        x = self.activation(self.fc2(x))\n",
    "        x = self.dropout(x)\n",
    "        x = self.activation(self.fc3(x))\n",
    "        x = torch.sigmoid(self.fc4(x))\n",
    "\n",
    "        return x\n"
   ]
  },
  {
   "cell_type": "code",
   "execution_count": 6,
   "id": "50e3be6d",
   "metadata": {},
   "outputs": [],
   "source": [
    "model = ChurnNN(input_dim=X.shape[1], hidden_dim=64, output_dim=1, activation=nn.ReLU(), dropout_rate=0.3)\n",
    "optimizer = torch.optim.Adam(model.parameters(), lr=0.001)\n",
    "loss_fn = nn.BCELoss()"
   ]
  },
  {
   "cell_type": "markdown",
   "id": "2ae54fb4",
   "metadata": {},
   "source": [
    "## Train Neural Network"
   ]
  },
  {
   "cell_type": "code",
   "execution_count": 7,
   "id": "51586a6d",
   "metadata": {},
   "outputs": [
    {
     "name": "stdout",
     "output_type": "stream",
     "text": [
      "Epoch 1/50 - Loss: 35.3526\n",
      "Epoch 2/50 - Loss: 26.5480\n",
      "Epoch 3/50 - Loss: 24.4185\n",
      "Epoch 4/50 - Loss: 24.7175\n",
      "Epoch 5/50 - Loss: 23.0420\n",
      "Epoch 6/50 - Loss: 22.7712\n",
      "Epoch 7/50 - Loss: 21.9203\n",
      "Epoch 8/50 - Loss: 21.8644\n",
      "Epoch 9/50 - Loss: 20.9422\n",
      "Epoch 10/50 - Loss: 20.1526\n",
      "Epoch 11/50 - Loss: 20.1621\n",
      "Epoch 12/50 - Loss: 19.6211\n",
      "Epoch 13/50 - Loss: 19.5215\n",
      "Epoch 14/50 - Loss: 18.4147\n",
      "Epoch 15/50 - Loss: 17.9371\n",
      "Epoch 16/50 - Loss: 19.0535\n",
      "Epoch 17/50 - Loss: 17.4654\n",
      "Epoch 18/50 - Loss: 18.2772\n",
      "Epoch 19/50 - Loss: 17.8425\n",
      "Epoch 20/50 - Loss: 17.1923\n",
      "Epoch 21/50 - Loss: 17.5210\n",
      "Epoch 22/50 - Loss: 16.7837\n",
      "Epoch 23/50 - Loss: 16.9694\n",
      "Epoch 24/50 - Loss: 16.3367\n",
      "Epoch 25/50 - Loss: 16.4057\n",
      "Epoch 26/50 - Loss: 15.6408\n",
      "Epoch 27/50 - Loss: 15.4161\n",
      "Epoch 28/50 - Loss: 15.5972\n",
      "Epoch 29/50 - Loss: 16.0007\n",
      "Epoch 30/50 - Loss: 15.8577\n",
      "Epoch 31/50 - Loss: 15.8338\n",
      "Epoch 32/50 - Loss: 15.6816\n",
      "Epoch 33/50 - Loss: 14.6261\n",
      "Epoch 34/50 - Loss: 15.6509\n",
      "Epoch 35/50 - Loss: 14.7090\n",
      "Epoch 36/50 - Loss: 14.7300\n",
      "Epoch 37/50 - Loss: 15.2483\n",
      "Epoch 38/50 - Loss: 14.6019\n",
      "Epoch 39/50 - Loss: 14.1565\n",
      "Epoch 40/50 - Loss: 14.2808\n",
      "Epoch 41/50 - Loss: 13.0518\n",
      "Epoch 42/50 - Loss: 14.0908\n",
      "Epoch 43/50 - Loss: 13.9619\n",
      "Epoch 44/50 - Loss: 13.6899\n",
      "Epoch 45/50 - Loss: 13.3462\n",
      "Epoch 46/50 - Loss: 13.4554\n",
      "Epoch 47/50 - Loss: 13.6703\n",
      "Epoch 48/50 - Loss: 13.0480\n",
      "Epoch 49/50 - Loss: 12.5632\n",
      "Epoch 50/50 - Loss: 12.9016\n"
     ]
    }
   ],
   "source": [
    "num_epochs = 50\n",
    "\n",
    "for epoch in range(num_epochs):\n",
    "    model.train()\n",
    "    total_loss = 0\n",
    "    \n",
    "    for X_batch, y_batch in train_loader:\n",
    "        optimizer.zero_grad()\n",
    "        y_pred = model(X_batch)\n",
    "        loss = loss_fn(y_pred, y_batch)\n",
    "        loss.backward()\n",
    "        optimizer.step()\n",
    "        total_loss += loss.item()\n",
    "    \n",
    "    print(f\"Epoch {epoch+1}/{num_epochs} - Loss: {total_loss:.4f}\")\n"
   ]
  },
  {
   "cell_type": "markdown",
   "id": "6a94799d",
   "metadata": {},
   "source": [
    "## Evaluate Neural Network"
   ]
  },
  {
   "cell_type": "code",
   "execution_count": 8,
   "id": "ba9926e7",
   "metadata": {},
   "outputs": [
    {
     "name": "stdout",
     "output_type": "stream",
     "text": [
      "Accuracy: 0.9543859649122807\n",
      "Precision: 0.9257425742574258\n",
      "Recall: 0.9444444444444444\n",
      "F1 Score: 0.935\n"
     ]
    }
   ],
   "source": [
    "model.eval()\n",
    "y_pred_list = []\n",
    "\n",
    "with torch.no_grad():\n",
    "    for X_batch, _ in test_loader:\n",
    "        y_test_pred = model(X_batch)\n",
    "        y_test_pred = torch.round(y_test_pred)\n",
    "        y_pred_list.append(y_test_pred)\n",
    "\n",
    "y_pred = torch.cat(y_pred_list).numpy().flatten()\n",
    "y_true = y_test.to_numpy()\n",
    "\n",
    "eval = pd.DataFrame([{\n",
    "    \"Accuracy\": accuracy_score(y_true, y_pred),\n",
    "    \"Precision\": precision_score(y_true, y_pred),\n",
    "    \"Recall\": recall_score(y_true, y_pred),\n",
    "    \"F1 Score\": f1_score(y_true, y_pred)\n",
    "}])\n",
    "\n",
    "eval.to_csv('../Outputs/Tables/evaluation_model.csv', index=False)\n",
    "\n",
    "print(\"Accuracy:\", accuracy_score(y_true, y_pred))\n",
    "print(\"Precision:\", precision_score(y_true, y_pred))\n",
    "print(\"Recall:\", recall_score(y_true, y_pred))\n",
    "print(\"F1 Score:\", f1_score(y_true, y_pred))\n"
   ]
  },
  {
   "cell_type": "code",
   "execution_count": 11,
   "id": "18fd6f48",
   "metadata": {},
   "outputs": [
    {
     "data": {
      "image/png": "[encoded data removed]",
      "text/plain": [
       "<Figure size 640x480 with 2 Axes>"
      ]
     },
     "metadata": {},
     "output_type": "display_data"
    },
    {
     "data": {
      "text/plain": [
       "<Figure size 640x480 with 0 Axes>"
      ]
     },
     "metadata": {},
     "output_type": "display_data"
    }
   ],
   "source": [
    "y_true = y_test.to_numpy()\n",
    "y_pred = y_pred.astype(int)\n",
    "\n",
    "cm = confusion_matrix(y_true, y_pred)\n",
    "\n",
    "disp = ConfusionMatrixDisplay(confusion_matrix=cm, display_labels=[\"No Churn\", \"Churn\"])\n",
    "disp.plot(cmap=\"Blues\")\n",
    "\n",
    "plt.title(\"Confusion Matrix\")\n",
    "plt.show()\n",
    "plt.savefig(\"../Outputs/Figures/confusion_matrix.png\", dpi=300, bbox_inches='tight')"
   ]
  },
  {
   "cell_type": "code",
   "execution_count": 10,
   "id": "bbbf0a11",
   "metadata": {},
   "outputs": [],
   "source": [
    "torch.save(model.state_dict(), '../Outputs/Models/churn_model.pth')"
   ]
  }
 ],
 "metadata": {
  "kernelspec": {
   "display_name": "churn_predictive",
   "language": "python",
   "name": "python3"
  },
  "language_info": {
   "codemirror_mode": {
    "name": "ipython",
    "version": 3
   },
   "file_extension": ".py",
   "mimetype": "text/x-python",
   "name": "python",
   "nbconvert_exporter": "python",
   "pygments_lexer": "ipython3",
   "version": "3.13.3"
  }
 },
 "nbformat": 4,
 "nbformat_minor": 5
}
