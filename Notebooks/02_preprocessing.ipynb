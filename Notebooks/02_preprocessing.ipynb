{
 "cells": [
  {
   "cell_type": "markdown",
   "id": "5aec943d",
   "metadata": {},
   "source": [
    "# Preprocessing"
   ]
  },
  {
   "cell_type": "code",
   "execution_count": 1,
   "id": "ed213d61",
   "metadata": {},
   "outputs": [],
   "source": [
    "import pandas as pd\n",
    "from sklearn.utils import resample\n",
    "from sklearn.preprocessing import StandardScaler\n",
    "import joblib"
   ]
  },
  {
   "cell_type": "code",
   "execution_count": 2,
   "id": "6f492ff1",
   "metadata": {},
   "outputs": [],
   "source": [
    "df = pd.read_csv('../Data/cleaned.csv')"
   ]
  },
  {
   "cell_type": "markdown",
   "id": "1c27632f",
   "metadata": {},
   "source": [
    "## Binary Type"
   ]
  },
  {
   "cell_type": "code",
   "execution_count": 3,
   "id": "8a2d39f9",
   "metadata": {},
   "outputs": [],
   "source": [
    "df['plan_type'] = df['plan_type'].map({\n",
    "    1 : 0,\n",
    "    2 : 1\n",
    "})\n",
    "\n",
    "df['account_status'] = df['account_status'].map({\n",
    "    1 : 0,\n",
    "    2 : 1\n",
    "})"
   ]
  },
  {
   "cell_type": "markdown",
   "id": "c3dfc3bd",
   "metadata": {},
   "source": [
    "## Balance Classes"
   ]
  },
  {
   "cell_type": "code",
   "execution_count": 4,
   "id": "49c28f7a",
   "metadata": {},
   "outputs": [],
   "source": [
    "df_majotity = df[df['has_churned']==0] # No Churned\n",
    "df_minority = df[df['has_churned']==1] # Churned"
   ]
  },
  {
   "cell_type": "code",
   "execution_count": 5,
   "id": "21c5dc4e",
   "metadata": {},
   "outputs": [],
   "source": [
    "df_majotity_downsampled = resample(\n",
    "    df_majotity,\n",
    "    replace=False,\n",
    "    n_samples=int(len(df_majotity)*0.7),\n",
    "    random_state=13\n",
    ")\n",
    "\n",
    "df_minority_upsampled = resample(\n",
    "    df_minority,\n",
    "    replace=True,\n",
    "    n_samples=int(len(df_minority)*2),\n",
    "    random_state=13\n",
    ")"
   ]
  },
  {
   "cell_type": "code",
   "execution_count": 6,
   "id": "d7929c5e",
   "metadata": {},
   "outputs": [],
   "source": [
    "df_balanced = pd.concat([df_majotity_downsampled, df_minority_upsampled])\n",
    "df_balanced = df_balanced.sample(frac=1, random_state=13).reset_index(drop=True)"
   ]
  },
  {
   "cell_type": "markdown",
   "id": "569a7347",
   "metadata": {},
   "source": [
    "## Scaling"
   ]
  },
  {
   "cell_type": "code",
   "execution_count": 7,
   "id": "2796f381",
   "metadata": {},
   "outputs": [],
   "source": [
    "X = df_balanced.drop(columns=['has_churned'])\n",
    "y = df_balanced['has_churned']"
   ]
  },
  {
   "cell_type": "code",
   "execution_count": 8,
   "id": "cbab00b9",
   "metadata": {},
   "outputs": [],
   "source": [
    "scaler = StandardScaler()\n",
    "X_scaler = scaler.fit_transform(X)\n",
    "X_scaler = pd.DataFrame(X_scaler, columns=X.columns)\n",
    "X_scaler['target'] = y\n",
    "\n",
    "joblib.dump(scaler, \"../Outputs/Models/scaler.pkl\") \n",
    "\n",
    "X_scaler.to_csv('../Data/preprocessing.csv', index=False)"
   ]
  }
 ],
 "metadata": {
  "kernelspec": {
   "display_name": "churn_predictive",
   "language": "python",
   "name": "python3"
  },
  "language_info": {
   "codemirror_mode": {
    "name": "ipython",
    "version": 3
   },
   "file_extension": ".py",
   "mimetype": "text/x-python",
   "name": "python",
   "nbconvert_exporter": "python",
   "pygments_lexer": "ipython3",
   "version": "3.13.3"
  }
 },
 "nbformat": 4,
 "nbformat_minor": 5
}
